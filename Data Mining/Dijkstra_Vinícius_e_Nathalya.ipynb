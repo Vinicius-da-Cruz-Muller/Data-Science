{
  "nbformat": 4,
  "nbformat_minor": 0,
  "metadata": {
    "colab": {
      "provenance": []
    },
    "kernelspec": {
      "name": "python3",
      "display_name": "Python 3"
    },
    "language_info": {
      "name": "python"
    }
  },
  "cells": [
    {
      "cell_type": "code",
      "execution_count": null,
      "metadata": {
        "colab": {
          "base_uri": "https://localhost:8080/"
        },
        "id": "V-zOLkNLIkd-",
        "outputId": "83d8769d-3ff1-47aa-9644-f94c72ba6457"
      },
      "outputs": [
        {
          "output_type": "stream",
          "name": "stdout",
          "text": [
            "Menor caminho:\n",
            "Chapecó -> Guatambú -> Faxinal dos Guedes -> Lacerdópolis -> Treze Tílias -> Rio do Sul -> Vidal Ramos -> Doutor Pedrinho -> Rio dos Cedros -> Pomerode -> Jaraguá do Sul -> Joinville -> Balneário Barra do Sul -> São Francisco do Sul\n"
          ]
        }
      ],
      "source": [
        "import json\n",
        "\n",
        "def menor_caminho_dijkstra(grafo, origem, destino):\n",
        "  nao_visitados = set(grafo.keys())\n",
        "  # Cria um dicionário para armazenar as distâncias até cada cidade\n",
        "  distancias = {cidade: float('inf') for cidade in grafo}\n",
        "  distancias[origem] = 0\n",
        "\n",
        "  #Guarda a cidade anterior pra saber o caminho\n",
        "  predecessores = {cidade: None for cidade in grafo}\n",
        "\n",
        "  while nao_visitados:\n",
        "    # Encontrar a cidade não visitada com menor distância\n",
        "    cidade_atual = min(nao_visitados, key=distancias.get)\n",
        "\n",
        "    if cidade_atual == destino:\n",
        "      break\n",
        "\n",
        "    nao_visitados.remove(cidade_atual)\n",
        "\n",
        "    # Para cada cidade vizinha da cidade atual:\n",
        "    for vizinha, distancia in grafo[cidade_atual].items():\n",
        "      nova_distancia = distancias[cidade_atual] + distancia\n",
        "\n",
        "      if nova_distancia < distancias[vizinha]:\n",
        "        distancias[vizinha] = nova_distancia\n",
        "        predecessores[vizinha] = cidade_atual\n",
        "\n",
        "  # Reconstruir o caminho\n",
        "  caminho = []\n",
        "  cidade_atual = destino\n",
        "  while cidade_atual is not None:\n",
        "    caminho.append(cidade_atual)\n",
        "    cidade_atual = predecessores[cidade_atual]\n",
        "  caminho.reverse()\n",
        "\n",
        "  return caminho\n",
        "\n",
        "def mostrar_caminho(caminho):\n",
        "\n",
        "  if not caminho:\n",
        "    print(\"Nenhum caminho encontrado.\")\n",
        "  else:\n",
        "    print(\"Menor caminho:\")\n",
        "    print(\" -> \".join(caminho))\n",
        "\n",
        "with open('/content/cidadesSC.json') as f:\n",
        "    grafo = json.load(f)\n",
        "\n",
        "# Exemplo de uso\n",
        "origem = \"Chapecó\"\n",
        "destino = \"São Francisco do Sul\"\n",
        "caminho = menor_caminho_dijkstra(grafo, origem, destino)\n",
        "mostrar_caminho(caminho)\n"
      ]
    }
  ]
}