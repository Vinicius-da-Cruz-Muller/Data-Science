{
  "nbformat": 4,
  "nbformat_minor": 0,
  "metadata": {
    "colab": {
      "provenance": []
    },
    "kernelspec": {
      "name": "python3",
      "display_name": "Python 3"
    },
    "language_info": {
      "name": "python"
    }
  },
  "cells": [
    {
      "cell_type": "code",
      "execution_count": 11,
      "metadata": {
        "colab": {
          "base_uri": "https://localhost:8080/"
        },
        "id": "V-zOLkNLIkd-",
        "outputId": "be995544-7d77-4de2-cf3d-642d4fb0875a"
      },
      "outputs": [
        {
          "output_type": "stream",
          "name": "stdout",
          "text": [
            "Menor caminho:\n",
            "Jaraguá do Sul -> Joinville -> Balneário Barra do Sul -> São Francisco do Sul\n"
          ]
        }
      ],
      "source": [
        "import json\n",
        "\n",
        "def menor_caminho_dijkstra(grafo, origem, destino):\n",
        "  \"\"\"\n",
        "  Função que implementa o algoritmo de Dijkstra para encontrar o menor caminho entre duas cidades.\n",
        "\n",
        "  Argumentos:\n",
        "    grafo: Dicionário que representa o grafo, onde as chaves são os nomes das cidades e os valores são dicionários com as distâncias para as cidades adjacentes.\n",
        "    origem: Nome da cidade de origem.\n",
        "    destino: Nome da cidade de destino.\n",
        "\n",
        "  Retorno:\n",
        "    Lista que representa o menor caminho, começando pela cidade de origem e terminando na cidade de destino.\n",
        "  \"\"\"\n",
        "\n",
        "  # Criar um conjunto com as cidades não visitadas\n",
        "  nao_visitados = set(grafo.keys())\n",
        "\n",
        "  # Criar um dicionário para armazenar as distâncias até cada cidade\n",
        "  distancias = {cidade: float('inf') for cidade in grafo}\n",
        "  distancias[origem] = 0\n",
        "\n",
        "  # Criar um dicionário para armazenar os predecessores de cada cidade\n",
        "  predecessores = {cidade: None for cidade in grafo}\n",
        "\n",
        "  while nao_visitados:\n",
        "    # Encontrar a cidade não visitada com menor distância\n",
        "    cidade_atual = min(nao_visitados, key=distancias.get)\n",
        "\n",
        "    # Se a cidade atual for o destino, parar o loop\n",
        "    if cidade_atual == destino:\n",
        "      break\n",
        "\n",
        "    # Remover a cidade atual do conjunto de cidades não visitadas\n",
        "    nao_visitados.remove(cidade_atual)\n",
        "\n",
        "    # Para cada cidade vizinha da cidade atual:\n",
        "    for vizinha, distancia in grafo[cidade_atual].items():\n",
        "      nova_distancia = distancias[cidade_atual] + distancia\n",
        "\n",
        "      # Se a nova distância for menor que a distância atual, atualizar a distância e o predecessor\n",
        "      if nova_distancia < distancias[vizinha]:\n",
        "        distancias[vizinha] = nova_distancia\n",
        "        predecessores[vizinha] = cidade_atual\n",
        "\n",
        "  # Reconstruir o caminho\n",
        "  caminho = []\n",
        "  cidade_atual = destino\n",
        "  while cidade_atual is not None:\n",
        "    caminho.append(cidade_atual)\n",
        "    cidade_atual = predecessores[cidade_atual]\n",
        "  caminho.reverse()\n",
        "\n",
        "  return caminho\n",
        "\n",
        "def mostrar_caminho(caminho):\n",
        "  \"\"\"\n",
        "  Função que imprime o menor caminho formatado.\n",
        "\n",
        "  Argumento:\n",
        "    caminho: Lista que representa o menor caminho.\n",
        "  \"\"\"\n",
        "\n",
        "  if not caminho:\n",
        "    print(\"Nenhum caminho encontrado.\")\n",
        "  else:\n",
        "    print(\"Menor caminho:\")\n",
        "    print(\" -> \".join(caminho))\n",
        "\n",
        "# Carregar o arquivo JSON com as cidades e distâncias\n",
        "with open('/content/cidadesSC.json') as f:\n",
        "    grafo = json.load(f)\n",
        "\n",
        "# Exemplo de uso\n",
        "origem = \"Jaraguá do Sul\"\n",
        "destino = \"São Francisco do Sul\"\n",
        "caminho = menor_caminho_dijkstra(grafo, origem, destino)\n",
        "mostrar_caminho(caminho)\n"
      ]
    }
  ]
}