{
  "nbformat": 4,
  "nbformat_minor": 0,
  "metadata": {
    "colab": {
      "provenance": []
    },
    "kernelspec": {
      "name": "python3",
      "display_name": "Python 3"
    },
    "language_info": {
      "name": "python"
    }
  },
  "cells": [
    {
      "cell_type": "code",
      "execution_count": null,
      "metadata": {
        "colab": {
          "base_uri": "https://localhost:8080/"
        },
        "id": "yQMbvRiPixRO",
        "outputId": "e8f479d5-71a1-43f2-8483-7d83c577c642"
      },
      "outputs": [
        {
          "output_type": "stream",
          "name": "stdout",
          "text": [
            "teste\n",
            "O caminho mais curto entre Jaraguá do Sul e Joinville é:\n",
            "Joinville, distância do vizinho visitado: 18\n",
            "Distância total: 18 km\n"
          ]
        }
      ],
      "source": [
        "import json\n",
        "\n",
        "class Grafo:\n",
        "  def __init__(self):\n",
        "    self.grafo = {}\n",
        "\n",
        "  def adicionar_aresta(self, origem, destino, dist):\n",
        "    if origem not in self.grafo:\n",
        "      self.grafo[origem] = {}\n",
        "    #print('Adicionando aresta ', origem, destino)\n",
        "    self.grafo[origem][destino] = dist\n",
        "\n",
        "  def encontrar_distancia(self, origem, destino):\n",
        "    #inicializa um conjunto para armazenar os nós (cidades) visitados\n",
        "    visitado = set()\n",
        "    #inicializar um dicionário para acompanhar as distâncias dos\n",
        "    #nós (cidades) até o nó de destino\n",
        "    distancias = {cidade: float('inf') for cidade in self.grafo}\n",
        "    #define a distancia da origem até ela mesmo como 0\n",
        "    distancias[origem] = 0\n",
        "    #inicializar um dicionario para armazenar o vizinho mais próximo\n",
        "    # visitado e a distancia correspondente\n",
        "    caminho = {}\n",
        "\n",
        "    #loop para visitar todos os nós\n",
        "    while len(visitado) < len(self.grafo):\n",
        "      cidade_atual = None\n",
        "      menor_distancia = float('inf')  # cria distância infinita\n",
        "      #Encontrar o próximo nó a ser visitado com a menor distância\n",
        "      for cidade, distancia in distancias.items():\n",
        "        if cidade not in visitado and distancia < menor_distancia:\n",
        "          cidade_atual = cidade\n",
        "          menor_distancia = distancia\n",
        "          #visitado.add(cidade_atual)\n",
        "\n",
        "      #Se não houver mais nós a serem visitados, encerra o loop\n",
        "      if cidade_atual is None:\n",
        "        break\n",
        "\n",
        "      visitado.add(cidade_atual)\n",
        "\n",
        "      #Atualizar a distância\n",
        "      if cidade_atual in self.grafo:\n",
        "        for vizinho, dist in self.grafo[cidade_atual].items():\n",
        "          nova_distancia = distancias[cidade_atual] + dist\n",
        "          if nova_distancia < distancias.get(vizinho, float('inf')):\n",
        "            distancias[vizinho] = nova_distancia\n",
        "            caminho[vizinho] = (cidade_atual, dist)\n",
        "\n",
        "    #Construir o caminho a partir do DESTINO até a ORIGEM\n",
        "    cidade_atual = destino\n",
        "    caminho_percorrido = []\n",
        "    while cidade_atual != origem:\n",
        "      print('teste')\n",
        "      caminho_percorrido.append((cidade_atual, caminho[cidade_atual][1]))\n",
        "      cidade_atual = caminho[cidade_atual][0]\n",
        "    #Retornar o caminho\n",
        "    return list(reversed(caminho_percorrido))\n",
        "\n",
        "with open('cidadesSCTeste.json', 'r') as file:\n",
        "  data = json.load(file)\n",
        "\n",
        "grafo = Grafo()\n",
        "\n",
        "for origem, destinos in data.items():\n",
        "  for destino, dist in destinos.items():\n",
        "    grafo.adicionar_aresta(origem, destino, dist)\n",
        "\n",
        "origem = \"Jaraguá do Sul\"\n",
        "destino = \"Joinville\"\n",
        "\n",
        "caminho = grafo.encontrar_distancia(origem, destino)\n",
        "\n",
        "if caminho:\n",
        "  distancia_total = sum(distancia for cidade, distancia in caminho)\n",
        "  print(f\"O caminho mais curto entre {origem} e {destino} é:\")\n",
        "  for cidade, distancia in caminho:\n",
        "    print(f\"{cidade}, distância do vizinho visitado: {distancia}\")\n",
        "  print(f\"Distância total: {distancia_total} km\")\n",
        "else:\n",
        "  print(f\"Não há caminho entre {origem} e {destino}\")"
      ]
    }
  ]
}